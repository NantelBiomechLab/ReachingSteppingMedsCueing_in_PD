{
 "cells": [
  {
   "cell_type": "code",
   "execution_count": 2,
   "id": "cf0871a4-0dba-4589-96fe-4b37c47fa443",
   "metadata": {},
   "outputs": [
    {
     "name": "stdout",
     "output_type": "stream",
     "text": [
      "Julia Version 1.10.0\n",
      "Commit 3120989f39b (2023-12-25 18:01 UTC)\n",
      "Build Info:\n",
      "  Official https://julialang.org/ release\n",
      "Platform Info:\n",
      "  OS: Linux (x86_64-linux-gnu)\n",
      "  CPU: 24 × AMD Ryzen 9 3900X 12-Core Processor\n",
      "  WORD_SIZE: 64\n",
      "  LIBM: libopenlibm\n",
      "  LLVM: libLLVM-15.0.7 (ORCJIT, znver2)\n",
      "  Threads: 18 on 24 virtual cores\n",
      "Environment:\n",
      "  JULIA_PKG_SERVER = pkg.julialang.org\n"
     ]
    }
   ],
   "source": [
    "versioninfo()"
   ]
  },
  {
   "cell_type": "code",
   "execution_count": 3,
   "id": "aa830a34-7e5c-4a22-b9ef-d584cdeed917",
   "metadata": {
    "collapsed": true,
    "jupyter": {
     "outputs_hidden": true
    },
    "scrolled": true
   },
   "outputs": [
    {
     "name": "stderr",
     "output_type": "stream",
     "text": [
      "\u001b[32m\u001b[1mPrecompiling\u001b[22m\u001b[39m project...\n",
      "\u001b[32m  ✓ \u001b[39m\u001b[90mMods\u001b[39m\n",
      "\u001b[32m  ✓ \u001b[39m\u001b[90mOpenMPI_jll\u001b[39m\n",
      "\u001b[32m  ✓ \u001b[39m\u001b[90mMocking\u001b[39m\n",
      "\u001b[32m  ✓ \u001b[39m\u001b[90mSimplePartitions\u001b[39m\n",
      "\u001b[32m  ✓ \u001b[39m\u001b[90mFilePaths\u001b[39m\n",
      "\u001b[32m  ✓ \u001b[39mPeaks\n",
      "\u001b[32m  ✓ \u001b[39m\u001b[90mNLopt\u001b[39m\n",
      "\u001b[32m  ✓ \u001b[39m\u001b[90mMakieCore\u001b[39m\n",
      "\u001b[32m  ✓ \u001b[39m\u001b[90mStableHashTraits\u001b[39m\n",
      "\u001b[32m  ✓ \u001b[39m\u001b[90mAxisArrays\u001b[39m\n",
      "\u001b[32m  ✓ \u001b[39m\u001b[90mOnlineStatsBase\u001b[39m\n",
      "\u001b[32m  ✓ \u001b[39m\u001b[90mPolynomials → PolynomialsChainRulesCoreExt\u001b[39m\n",
      "\u001b[32m  ✓ \u001b[39m\u001b[90mFiniteDiff\u001b[39m\n",
      "\u001b[32m  ✓ \u001b[39m\u001b[90mIntervalArithmetic\u001b[39m\n",
      "\u001b[32m  ✓ \u001b[39m\u001b[90mFastGaussQuadrature\u001b[39m\n",
      "\u001b[32m  ✓ \u001b[39m\u001b[90mStatsModels\u001b[39m\n",
      "\u001b[32m  ✓ \u001b[39m\u001b[90mSimpleRandom\u001b[39m\n",
      "\u001b[32m  ✓ \u001b[39mDataFramesMeta\n",
      "\u001b[32m  ✓ \u001b[39m\u001b[90mAccurateArithmetic\u001b[39m\n",
      "\u001b[32m  ✓ \u001b[39m\u001b[90mHDF5_jll\u001b[39m\n",
      "\u001b[32m  ✓ \u001b[39mClustering\n",
      "\u001b[32m  ✓ \u001b[39m\u001b[90mStrideArraysCore\u001b[39m\n",
      "\u001b[32m  ✓ \u001b[39m\u001b[90mKernelDensity\u001b[39m\n",
      "\u001b[32m  ✓ \u001b[39m\u001b[90mIntervalArithmetic → IntervalArithmeticRecipesBaseExt\u001b[39m\n",
      "\u001b[32m  ✓ \u001b[39mDatasetManager\n",
      "\u001b[32m  ✓ \u001b[39m\u001b[90mFileIO\u001b[39m\n",
      "\u001b[32m  ✓ \u001b[39m\u001b[90mRegressionFormulae\u001b[39m\n",
      "\u001b[32m  ✓ \u001b[39m\u001b[90mPolynomials → PolynomialsMakieCoreExt\u001b[39m\n",
      "\u001b[32m  ✓ \u001b[39m\u001b[90mFiniteDiff → FiniteDiffBandedMatricesExt\u001b[39m\n",
      "\u001b[32m  ✓ \u001b[39mStandardizedPredictors\n",
      "\u001b[32m  ✓ \u001b[39m\u001b[90mIntervalArithmetic → IntervalArithmeticDiffRulesExt\u001b[39m\n",
      "\u001b[32m  ✓ \u001b[39m\u001b[90mOnlineStats\u001b[39m\n",
      "\u001b[32m  ✓ \u001b[39m\u001b[90mGLM\u001b[39m\n",
      "\u001b[32m  ✓ \u001b[39m\u001b[90mPolyester\u001b[39m\n",
      "\u001b[32m  ✓ \u001b[39m\u001b[90mImageAxes\u001b[39m\n",
      "\u001b[32m  ✓ \u001b[39m\u001b[90mQOI\u001b[39m\n",
      "\u001b[32m  ✓ \u001b[39m\u001b[90mOpenEXR\u001b[39m\n",
      "\u001b[32m  ✓ \u001b[39mEffects\n",
      "\u001b[32m  ✓ \u001b[39m\u001b[90mFiniteDiff → FiniteDiffStaticArraysExt\u001b[39m\n",
      "\u001b[32m  ✓ \u001b[39m\u001b[90mSimplePolynomials\u001b[39m\n",
      "\u001b[32m  ✓ \u001b[39m\u001b[90mSixel\u001b[39m\n",
      "\u001b[32m  ✓ \u001b[39m\u001b[90mJpegTurbo\u001b[39m\n",
      "\u001b[32m  ✓ \u001b[39m\u001b[90mFastBroadcast\u001b[39m\n",
      "\u001b[32m  ✓ \u001b[39m\u001b[90mImageMetadata\u001b[39m\n",
      "\u001b[32m  ✓ \u001b[39m\u001b[90mGeometryBasics\u001b[39m\n",
      "\u001b[32m  ✓ \u001b[39m\u001b[90mLinearAlgebraX\u001b[39m\n",
      "\u001b[32m  ✓ \u001b[39m\u001b[90mNLSolversBase\u001b[39m\n",
      "\u001b[32m  ✓ \u001b[39m\u001b[90mEffects → EffectsGLMExt\u001b[39m\n",
      "\u001b[32m  ✓ \u001b[39m\u001b[90mTimeZones\u001b[39m\n",
      "\u001b[32m  ✓ \u001b[39mRollingFunctions\n",
      "\u001b[32m  ✓ \u001b[39m\u001b[90mPacking\u001b[39m\n",
      "\u001b[32m  ✓ \u001b[39m\u001b[90mExactPredicates\u001b[39m\n",
      "\u001b[32m  ✓ \u001b[39mDSP\n",
      "\u001b[32m  ✓ \u001b[39m\u001b[90mNetpbm\u001b[39m\n",
      "\u001b[32m  ✓ \u001b[39m\u001b[90mShaderAbstractions\u001b[39m\n",
      "\u001b[32m  ✓ \u001b[39m\u001b[90mTimeZones → TimeZonesRecipesBaseExt\u001b[39m\n",
      "\u001b[32m  ✓ \u001b[39m\u001b[90mHDF5\u001b[39m\n",
      "\u001b[32m  ✓ \u001b[39m\u001b[90mLineSearches\u001b[39m\n",
      "\u001b[32m  ✓ \u001b[39m\u001b[90mFreeTypeAbstraction\u001b[39m\n",
      "\u001b[32m  ✓ \u001b[39mRCall\n",
      "\u001b[32m  ✓ \u001b[39m\u001b[90mMAT\u001b[39m\n",
      "\u001b[32m  ✓ \u001b[39mBiomechanics\n",
      "\u001b[32m  ✓ \u001b[39m\u001b[90mGridLayoutBase\u001b[39m\n",
      "\u001b[32m  ✓ \u001b[39m\u001b[90mArrow\u001b[39m\n",
      "\u001b[32m  ✓ \u001b[39m\u001b[90mOptim\u001b[39m\n",
      "\u001b[32m  ✓ \u001b[39m\u001b[90mMixedModelsDatasets\u001b[39m\n",
      "\u001b[32m  ✓ \u001b[39m\u001b[90mMathTeXEngine\u001b[39m\n",
      "\u001b[32m  ✓ \u001b[39mLabDataSources\n",
      "\u001b[32m  ✓ \u001b[39m\u001b[90mSimpleGraphs\u001b[39m\n",
      "\u001b[32m  ✓ \u001b[39m\u001b[90mBSplineKit\u001b[39m\n",
      "\u001b[32m  ✓ \u001b[39m\u001b[90mDelaunayTriangulation\u001b[39m\n",
      "\u001b[32m  ✓ \u001b[39m\u001b[90mTiffImages\u001b[39m\n",
      "\u001b[32m  ✓ \u001b[39m\u001b[90mImageIO\u001b[39m\n",
      "\u001b[32m  ✓ \u001b[39m\u001b[90mMixedModels\u001b[39m\n",
      "\u001b[32m  ✓ \u001b[39mMixedModelsExtras\n",
      "\u001b[32m  ✓ \u001b[39m\u001b[90mEffects → EffectsMixedModelsExt\u001b[39m\n",
      "\u001b[32m  ✓ \u001b[39mJellyMe4\n",
      "\u001b[32m  ✓ \u001b[39m\u001b[90mMakie\u001b[39m\n",
      "\u001b[32m  ✓ \u001b[39mCairoMakie\n",
      "\u001b[32m  ✓ \u001b[39mAlgebraOfGraphics\n",
      "\u001b[32m  ✓ \u001b[39mMixedModelsMakie\n",
      "\u001b[32m  ✓ \u001b[39mPaperResearchCode\n",
      "  82 dependencies successfully precompiled in 97 seconds. 308 already precompiled.\n"
     ]
    }
   ],
   "source": [
    "]precompile"
   ]
  },
  {
   "cell_type": "code",
   "execution_count": 11,
   "id": "c916e4fe-eff1-4075-9dab-137252e57890",
   "metadata": {},
   "outputs": [],
   "source": [
    "using DatasetManager, LabDataSources, C3D, CSV, DataFrames, DataFramesMeta\n",
    "using C3D: deleteanalog!"
   ]
  },
  {
   "cell_type": "code",
   "execution_count": 12,
   "id": "734cc305-3955-46a6-9ebd-efb394d1d67f",
   "metadata": {
    "editable": true,
    "slideshow": {
     "slide_type": ""
    },
    "tags": []
   },
   "outputs": [
    {
     "name": "stderr",
     "output_type": "stream",
     "text": [
      "\u001b[91m\u001b[1m┌ \u001b[22m\u001b[39m\u001b[91m\u001b[1mError: \u001b[22m\u001b[39mDuplicateSourceError: Found \"freq_cal\" source file …/PD 02/Patient 4/Session 1/CAL_RRT_FREQ.c3d for Trial(4, \"RRT_STAND_BOTH_C\", 7 conditions, 2 sources) which already has a \"freq_cal\" source at \"…/PD 02/Patient 4/Session 1/CAL_RRT_FREQ-2.c3d\"\n",
      "\u001b[91m\u001b[1m└ \u001b[22m\u001b[39m\u001b[90m@ DatasetManager ~/.julia/dev/DatasetManager/src/trial.jl:735\u001b[39m\n",
      "\u001b[91m\u001b[1m┌ \u001b[22m\u001b[39m\u001b[91m\u001b[1mError: \u001b[22m\u001b[39mDuplicateSourceError: Found \"freq_cal\" source file …/PD 02/Patient 4/Session 1/cal-rrt-freq-1.c3d for Trial(4, \"RRT_STAND_BOTH_C\", 7 conditions, 3 sources) which already has a \"freq_cal\" source at \"…/PD 02/Patient 4/Session 1/CAL_RRT_FREQ-2.c3d\"\n",
      "\u001b[91m\u001b[1m└ \u001b[22m\u001b[39m\u001b[90m@ DatasetManager ~/.julia/dev/DatasetManager/src/trial.jl:735\u001b[39m\n",
      "\u001b[91m\u001b[1m┌ \u001b[22m\u001b[39m\u001b[91m\u001b[1mError: \u001b[22m\u001b[39mDuplicateSourceError: Found \"freq_cal\" source file …/PD 20/Patient 27/Session 1/cal-rrt-freq-4.c3d for Trial(27, \"rrt-stand-both-c\", 7 conditions, 2 sources) which already has a \"freq_cal\" source at \"…/PD 20/Patient 27/Session 1/cal-rrt-freq-3.c3d\"\n",
      "\u001b[91m\u001b[1m└ \u001b[22m\u001b[39m\u001b[90m@ DatasetManager ~/.julia/dev/DatasetManager/src/trial.jl:735\u001b[39m\n"
     ]
    },
    {
     "name": "stdout",
     "output_type": "stream",
     "text": [
      "\u001b[1mSubjects:\u001b[22m\n",
      " └ \u001b[36m40\u001b[39m:\u001b[37m 1  2  3  4  5  6  7  8  9  10  11  …  33  34  35  36  37  38  39  40\u001b[39m\n",
      "\u001b[1mTrials:\u001b[22m\n",
      " ├ \u001b[36m283\u001b[39m trials\n",
      " └ Trials per subject:\n",
      "   ├ \u001b[36m8\u001b[39m: 32 subjects \u001b[37m(80%)\u001b[39m\n",
      "   ├ \u001b[36m4\u001b[39m: 6 subjects \u001b[37m(15%)\u001b[39m\n",
      "   ├ \u001b[36m2\u001b[39m: 1 subject \u001b[37m(2%)\u001b[39m\n",
      "   └ \u001b[36m1\u001b[39m: 1 subject \u001b[37m(2%)\u001b[39m\n",
      "\u001b[1mConditions:\u001b[22m\n",
      " ├ Observed levels:\n",
      " │ ├ \u001b[35;1mtask\u001b[39;22m => [\"rrt\", \"sip\"]\n",
      " │ ├ \u001b[35;1mcued\u001b[39;22m => Bool[1, 0]\n",
      " │ └ \u001b[35;1msession\u001b[39;22m => [1, 2]\n",
      " └ Unique level combinations observed: \u001b[36m8\u001b[39m\u001b[37m (full factorial)\u001b[39m\n",
      "    \u001b[35;1m task \u001b[0m│\u001b[35;1m  cued \u001b[0m│\u001b[35;1m session \u001b[0m│\u001b[37m # trials \u001b[0m\n",
      "    ──────┼───────┼─────────┼──────────\n",
      "      rrt │  true │       1 │\u001b[37m 39       \u001b[0m\n",
      "      rrt │ false │       1 │\u001b[37m 38       \u001b[0m\n",
      "      sip │  true │       1 │\u001b[37m 37       \u001b[0m\n",
      "      sip │ false │       1 │\u001b[37m 37       \u001b[0m\n",
      "      rrt │  true │       2 │\u001b[37m 33       \u001b[0m\n",
      "      rrt │ false │       2 │\u001b[37m 33       \u001b[0m\n",
      "      sip │  true │       2 │\u001b[37m 33       \u001b[0m\n",
      "      sip │ false │       2 │\u001b[37m 33       \u001b[0m\n",
      "\u001b[1mSources:\u001b[22m\n",
      " ├ \u001b[32m\"cal_rrt_freq\"\u001b[39m => Source{C3DFile}\u001b[37m, 283 trials (100%)\u001b[39m\n",
      " ├ \u001b[32m\"cal_sip_freq\"\u001b[39m => Source{C3DFile}\u001b[37m, 283 trials (100%)\u001b[39m\n",
      " └ \u001b[32m\"main\"\u001b[39m => Source{C3DFile}\u001b[37m, 283 trials (100%)\u001b[39m\n"
     ]
    }
   ],
   "source": [
    "if Sys.iswindows()\n",
    "    disk = \"G:/\"\n",
    "else\n",
    "    if isdir(\"/mnt/data/\")\n",
    "        disk = \"/mnt/data/\"\n",
    "    else\n",
    "        disk = \"/media/allen/project-data\"\n",
    "    end\n",
    "end\n",
    "\n",
    "datapath = joinpath(disk, \"projects/hirams-study/data\")\n",
    "c3dpath = joinpath(datapath, \"raw/vicon\")\n",
    "\n",
    "subsets = [\n",
    "    DataSubset(\"main\", Source{C3DFile}, c3dpath, \"PD [0-9]*/Patient [0-9]*/Session [0-2]/*.c3d\")\n",
    "    DataSubset(\"main\", Source{C3DFile}, c3dpath, \"Control [0-9]*/Patient [0-9]*/Session [0-2]/*.c3d\")\n",
    "]\n",
    "\n",
    "labels = Dict(\n",
    "    :group => [\"PD\", \"Control\"],\n",
    "    :groupid => r\"(?<=PD |Control )\\d+\",\n",
    "    :subject => r\"(?<=Patient )\\d+\",\n",
    "    :session => r\"(?<=Session )\\d+\",\n",
    "    :task => r\"(?<!cal[-_])(rrt|sip)\"i => lowercase,\n",
    "    :posture => r\"(sit|stand)\"i => lowercase,\n",
    "    :side => r\"(right|left|both)\"i => lowercase,\n",
    "    :cued => r\"(?<=[-_])N?C\"i => lowercase\n",
    ")\n",
    "\n",
    "conds = TrialConditions((:group,:groupid,:subject,:session,:task,:posture,:side,:cued), labels; types=Dict(:groupid => Int, :subject => Int, :session => Int))\n",
    "\n",
    "trials = findtrials(subsets, conds)\n",
    "\n",
    "labels = Dict(\n",
    "    :group => [\"PD\", \"Control\"],\n",
    "    :groupid => r\"(?<=PD |Control )\\d+\",\n",
    "    :subject => r\"(?<=Patient )\\d+\",\n",
    "    :session => r\"(?<=Session )\\d+\",\n",
    "    :freq_cal => r\"(?<=cal[-_])(sip|rrt)(?=[-_]freq)\"i => ((s) -> \"cal_$(lowercase(s))_freq\") => [\"cal_sip_freq\", \"cal_rrt_freq\"]\n",
    ")\n",
    "\n",
    "conds = TrialConditions((:group,:groupid,:subject,:session,:freq_cal), labels; required=(:group,:groupid,:subject,:session,), types=Dict(:groupid => Int, :subject => Int, :session => Int))\n",
    "\n",
    "subsets = [\n",
    "    DataSubset(\"freq_cal\", Source{C3DFile}, c3dpath, \"PD [0-9]*/Patient [0-9]*/Session [0-2]/*.c3d\"; dependent=true)\n",
    "    DataSubset(\"freq_cal\", Source{C3DFile}, c3dpath, \"Control [0-9]*/Patient [0-9]*/Session [0-2]/*.c3d\"; dependent=true)\n",
    "]\n",
    "\n",
    "trials = findtrials!(trials, subsets, conds)\n",
    "\n",
    "demograph = CSV.read(\"../data/demographics.csv\", DataFrame)\n",
    "DatasetManager.addcondition!.(trials, :bodyweight => (t -> @subset(demograph, $\"Subject Code\" .== subject(t))[1, \"Weight (kg)\"]))\n",
    "\n",
    "recodecondition!.(trials, :cued => c -> c == \"c\" ? true : false)\n",
    "delete!.(conditions.(trials), :posture)\n",
    "delete!.(conditions.(trials), :side)\n",
    "\n",
    "summarize(trials; verbosity=25, ignoreconditions=(:groupid,:group,:bodyweight))"
   ]
  },
  {
   "cell_type": "code",
   "execution_count": 16,
   "id": "00a1b47e-bbdd-42cc-8754-0b172f1cec73",
   "metadata": {},
   "outputs": [],
   "source": [
    "emgsigs = [\"Voltage.LAD\", \"Voltage.LBF\", \"Voltage.LBIC\", \"Voltage.LGM\", \"Voltage.LRF\",\n",
    "    \"Voltage.LTA\", \"Voltage.LTRIC\", \"Voltage.LUT\", \"Voltage.RAD\", \"Voltage.RBF\",\n",
    "    \"Voltage.RBIC\", \"Voltage.RGM\", \"Voltage.RRF\", \"Voltage.RTA\", \"Voltage.RTRIC\",\n",
    "    \"Voltage.RUT\"];"
   ]
  },
  {
   "cell_type": "code",
   "execution_count": 19,
   "id": "60c30e67-ea8d-49d7-a98b-6301c232cc92",
   "metadata": {},
   "outputs": [],
   "source": [
    "foreach(trials) do t\n",
    "    requiresource!(t, \"main\" => Source{C3DFile}(); force=true, deps=(Source{C3DFile},)) do trial, src, deps\n",
    "        p, io = mktemp()\n",
    "        f = readsource(trial, \"main\")\n",
    "        deleteanalog!.(Ref(f), emgsigs)\n",
    "        writec3d(io, f)\n",
    "        close(io)\n",
    "        t.sources[\"main\"] = Source{C3DFile}(p)\n",
    "    end\n",
    "    requiresource!(t, \"cal_rrt_freq\" => Source{C3DFile}(); force=true, deps=(Source{C3DFile},)) do trial, src, deps\n",
    "        p, io = mktemp()\n",
    "        f = readsource(trial, \"cal_rrt_freq\")\n",
    "        deleteanalog!.(Ref(f), emgsigs)\n",
    "        writec3d(io, f)\n",
    "        close(io)\n",
    "        t.sources[\"cal_rrt_freq\"] = Source{C3DFile}(p)\n",
    "    end\n",
    "    requiresource!(t, \"cal_sip_freq\" => Source{C3DFile}(); force=true, deps=(Source{C3DFile},)) do trial, src, deps\n",
    "        p, io = mktemp()\n",
    "        f = readsource(trial, \"cal_sip_freq\")\n",
    "        deleteanalog!.(Ref(f), emgsigs)\n",
    "        writec3d(io, f)\n",
    "        close(io)\n",
    "        t.sources[\"cal_sip_freq\"] = Source{C3DFile}(p)\n",
    "    end\n",
    "end"
   ]
  },
  {
   "cell_type": "code",
   "execution_count": 29,
   "id": "83bbbd39-0ddf-45cb-958b-91a5c4244eaa",
   "metadata": {},
   "outputs": [],
   "source": [
    "export_trials(trials, \"../data\", [\"main\"]) do trial, srcname\n",
    "    name = \"$(conditions(trial)[:task])-\"*(conditions(trial)[:cued] ? \"cued\" : \"uncued\")\n",
    "    return \"$(conditions(trial)[:group]) $(conditions(trial)[:groupid])/Patient $(subject(trial))/Session $(conditions(trial)[:session])/$name.c3d\"\n",
    "end"
   ]
  },
  {
   "cell_type": "code",
   "execution_count": null,
   "id": "1089c3e5-39f9-4779-8b26-40b0b6f4e5d8",
   "metadata": {},
   "outputs": [],
   "source": []
  }
 ],
 "metadata": {
  "@webio": {
   "lastCommId": "8c48fc97-3f40-46c2-b3f7-b0e476571360",
   "lastKernelId": "93820817-19fe-482f-b64d-2e5680e3d029"
  },
  "kernelspec": {
   "display_name": "Julia (SYSIMAGE) 1.10.0",
   "language": "julia",
   "name": "julia-sysimage-1.10"
  },
  "language_info": {
   "file_extension": ".jl",
   "mimetype": "application/julia",
   "name": "julia",
   "version": "1.10.0"
  }
 },
 "nbformat": 4,
 "nbformat_minor": 5
}
