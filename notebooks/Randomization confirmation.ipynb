{
 "cells": [
  {
   "cell_type": "code",
   "execution_count": 1,
   "id": "b8b2b9eb-3ea9-4506-9ac5-e00dbeb4cb84",
   "metadata": {},
   "outputs": [],
   "source": [
    "using DataFrames, CSV, Statistics, HypothesisTests, CategoricalArrays"
   ]
  },
  {
   "cell_type": "code",
   "execution_count": 2,
   "id": "920ebded-da49-4678-9783-b30ca2584a43",
   "metadata": {},
   "outputs": [],
   "source": [
    "df = CSV.read(\"../data/trial-numbers.csv\", DataFrame; missingstring=\"NA\", types=Dict(7 => Int), silencewarnings=true)\n",
    "transform!(df, Not(\"Trial #\") .=> categorical; renamecols=false)\n",
    "rename!(df, \"Subject code\" => :subject, \"Session\" => :session, \"Trial type\" => :type, \"Cal type\" => :calib, \"Task\" => :task, \"Cue\" => :cue, \"Trial #\" => :trial)\n",
    "sort!(df, :trial);"
   ]
  },
  {
   "cell_type": "code",
   "execution_count": 3,
   "id": "55bbcb2d-256b-4cc3-8ded-74f6b4082763",
   "metadata": {},
   "outputs": [
    {
     "data": {
      "text/plain": [
       "288"
      ]
     },
     "execution_count": 3,
     "metadata": {},
     "output_type": "execute_result"
    }
   ],
   "source": [
    "count(x -> x .== \"DATA\", df.type)"
   ]
  },
  {
   "cell_type": "code",
   "execution_count": 4,
   "id": "e17b08da-4798-4821-aea8-11c898280424",
   "metadata": {},
   "outputs": [],
   "source": [
    "gd = groupby(subset(df, :type => x -> x .== \"DATA\"), [:subject, :session, :task])\n",
    "cf = combine(gd, :cue => (x -> first(x) == \"CUED\") => :cued_first);"
   ]
  },
  {
   "cell_type": "code",
   "execution_count": 5,
   "id": "1a9f6dc8-afee-4eaf-bc81-6bf7a8492124",
   "metadata": {},
   "outputs": [
    {
     "data": {
      "text/plain": [
       "Binomial test\n",
       "-------------\n",
       "Population details:\n",
       "    parameter of interest:   Probability of success\n",
       "    value under h_0:         0.5\n",
       "    point estimate:          0.551724\n",
       "    95% confidence interval: (0.467, 0.6343)\n",
       "\n",
       "Test summary:\n",
       "    outcome with 95% confidence: fail to reject h_0\n",
       "    two-sided p-value:           0.2449\n",
       "\n",
       "Details:\n",
       "    number of observations: 145\n",
       "    number of successes:    80\n"
      ]
     },
     "execution_count": 5,
     "metadata": {},
     "output_type": "execute_result"
    }
   ],
   "source": [
    "BinomialTest(cf.cued_first)"
   ]
  },
  {
   "cell_type": "code",
   "execution_count": 6,
   "id": "bd7db398-2949-4c07-a8e1-26d61fe94c94",
   "metadata": {},
   "outputs": [
    {
     "data": {
      "text/plain": [
       "Binomial test\n",
       "-------------\n",
       "Population details:\n",
       "    parameter of interest:   Probability of success\n",
       "    value under h_0:         0.5\n",
       "    point estimate:          0.534247\n",
       "    95% confidence interval: (0.4137, 0.652)\n",
       "\n",
       "Test summary:\n",
       "    outcome with 95% confidence: fail to reject h_0\n",
       "    two-sided p-value:           0.6400\n",
       "\n",
       "Details:\n",
       "    number of observations: 73\n",
       "    number of successes:    39\n"
      ]
     },
     "execution_count": 6,
     "metadata": {},
     "output_type": "execute_result"
    }
   ],
   "source": [
    "BinomialTest(cf[cf.task .== \"RRT\", :cued_first])"
   ]
  },
  {
   "cell_type": "code",
   "execution_count": 7,
   "id": "6096d4ec-89be-4778-8d35-c191dbbe2d85",
   "metadata": {},
   "outputs": [
    {
     "data": {
      "text/plain": [
       "Binomial test\n",
       "-------------\n",
       "Population details:\n",
       "    parameter of interest:   Probability of success\n",
       "    value under h_0:         0.5\n",
       "    point estimate:          0.569444\n",
       "    95% confidence interval: (0.4473, 0.6857)\n",
       "\n",
       "Test summary:\n",
       "    outcome with 95% confidence: fail to reject h_0\n",
       "    two-sided p-value:           0.2888\n",
       "\n",
       "Details:\n",
       "    number of observations: 72\n",
       "    number of successes:    41\n"
      ]
     },
     "execution_count": 7,
     "metadata": {},
     "output_type": "execute_result"
    }
   ],
   "source": [
    "BinomialTest(cf[cf.task .== \"SIP\", :cued_first])"
   ]
  },
  {
   "cell_type": "code",
   "execution_count": 8,
   "id": "ed6086cc-df4d-4316-aa0f-6e5493b7406e",
   "metadata": {},
   "outputs": [],
   "source": [
    "gd = groupby(subset(df, :type => x -> x .== \"DATA\"), [:subject, :session])\n",
    "tf = combine(gd, [:task, :cue] => ((t, c) -> length(t) < 2 ? (;RRT_first=missing, split=missing) : (;RRT_first=first(t)==\"RRT\", split=!all(==(t[1]), t[1:2]))) => AsTable);"
   ]
  },
  {
   "cell_type": "code",
   "execution_count": 9,
   "id": "5d83b9de-8830-4131-87da-844ef95c5a5f",
   "metadata": {},
   "outputs": [
    {
     "data": {
      "text/plain": [
       "false"
      ]
     },
     "execution_count": 9,
     "metadata": {},
     "output_type": "execute_result"
    }
   ],
   "source": [
    "any(skipmissing(tf.split))"
   ]
  },
  {
   "cell_type": "code",
   "execution_count": 10,
   "id": "167d881e-9b9f-49dc-a088-8bfd53262ea1",
   "metadata": {},
   "outputs": [
    {
     "data": {
      "text/plain": [
       "Binomial test\n",
       "-------------\n",
       "Population details:\n",
       "    parameter of interest:   Probability of success\n",
       "    value under h_0:         0.5\n",
       "    point estimate:          0.458333\n",
       "    95% confidence interval: (0.3402, 0.58)\n",
       "\n",
       "Test summary:\n",
       "    outcome with 95% confidence: fail to reject h_0\n",
       "    two-sided p-value:           0.5560\n",
       "\n",
       "Details:\n",
       "    number of observations: 72\n",
       "    number of successes:    33\n"
      ]
     },
     "execution_count": 10,
     "metadata": {},
     "output_type": "execute_result"
    }
   ],
   "source": [
    "BinomialTest(collect(skipmissing(tf.RRT_first)))"
   ]
  },
  {
   "cell_type": "code",
   "execution_count": null,
   "id": "329d95eb-89b6-4d64-b832-2a171ff024bd",
   "metadata": {},
   "outputs": [],
   "source": []
  }
 ],
 "metadata": {
  "@webio": {
   "lastCommId": "6ffc9eae-c352-487a-bc59-5ffbaaff877e",
   "lastKernelId": "96f44b40-2324-4874-9d17-70c8b5547c66"
  },
  "kernelspec": {
   "display_name": "Julia (SYSIMAGE) 1.10.0",
   "language": "julia",
   "name": "julia-sysimage-1.10"
  },
  "language_info": {
   "file_extension": ".jl",
   "mimetype": "application/julia",
   "name": "julia",
   "version": "1.10.0"
  }
 },
 "nbformat": 4,
 "nbformat_minor": 5
}
